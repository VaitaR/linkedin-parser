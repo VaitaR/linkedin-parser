{
 "cells": [
  {
   "cell_type": "code",
   "execution_count": null,
   "metadata": {},
   "outputs": [],
   "source": [
    "# from selenium_stealth import stealth\n",
    "import time\n",
    "import undetected_chromedriver as uc\n",
    "import requests\n",
    "\n",
    "from selenium import webdriver\n",
    "from selenium.webdriver.common.by import By\n",
    "from selenium.webdriver.support.ui import WebDriverWait\n",
    "from selenium.webdriver.support import expected_conditions as ec\n",
    "from selenium.webdriver.chrome.options import Options\n",
    "from bs4 import BeautifulSoup\n",
    "\n",
    "from csv import writer\n",
    "import pandas as pd\n",
    "from datetime import datetime\n",
    "from dateutil.relativedelta import relativedelta\n",
    "import re\n",
    "from dateutil.parser import parse"
   ]
  },
  {
   "cell_type": "code",
   "execution_count": null,
   "metadata": {},
   "outputs": [],
   "source": [
    "import config\n",
    "my_email = config.email\n",
    "my_password = config.password\n",
    "linkedin_link = config.linkedin_link"
   ]
  },
  {
   "cell_type": "code",
   "execution_count": null,
   "metadata": {},
   "outputs": [],
   "source": [
    "# need to add check about internet connection."
   ]
  },
  {
   "cell_type": "code",
   "execution_count": null,
   "metadata": {},
   "outputs": [],
   "source": [
    "start_time = datetime.now() \n",
    "print('Start time: ', start_time)"
   ]
  },
  {
   "cell_type": "code",
   "execution_count": null,
   "metadata": {},
   "outputs": [],
   "source": [
    "driver = uc.Chrome(use_subprocess=True)#, headless = True)\n",
    "# detection test\n",
    "# driver.get('https://nowsecure.nl')\n",
    "driver.get(url = 'https://www.linkedin.com/login')\n",
    "WebDriverWait(driver, 30).until(ec.presence_of_element_located((By.ID, \"username\")))\n",
    "driver.find_element(By.ID, \"username\").send_keys(my_email)\n",
    "driver.find_element(By.ID, \"password\").send_keys(my_password)\n",
    "driver.find_element(By.CLASS_NAME, \"login__form_action_container \").click()\n",
    "# work long time\n"
   ]
  },
  {
   "cell_type": "code",
   "execution_count": null,
   "metadata": {},
   "outputs": [],
   "source": [
    "driver.get(url = f'https://www.linkedin.com/in/{linkedin_link}/')\n",
    "WebDriverWait(driver, 30).until(ec.presence_of_element_located((By.CLASS_NAME, 'pvs-list__item--three-column')))\n",
    "\n",
    "# profile page base numbers\n",
    "score = driver.find_elements(By.CLASS_NAME, 'pvs-list__item--three-column')\n",
    "views = score[0].text.split(' ')[0]\n",
    "print(views, 'profile views, in 90 days') \n",
    "impressions = score[1].text.split(' ')[0]\n",
    "print(impressions, 'post impressions, all time(?)')\n",
    "searchs = score[2].text.split(' ')[0] \n",
    "print(searchs, 'search appearances, for 7 days, which days(?)') "
   ]
  },
  {
   "cell_type": "code",
   "execution_count": null,
   "metadata": {},
   "outputs": [],
   "source": [
    "driver.get(url = 'https://www.linkedin.com/analytics/search-appearances/')\n",
    "WebDriverWait(driver, 30).until(ec.presence_of_element_located((By.CLASS_NAME, 'member-analytics-addon-bar-chart__row')))\n",
    "\n",
    "# search period parsing\n",
    "try:\n",
    "    search_period = driver.find_element(By.CLASS_NAME, 'member-analytics-addon-analytics-view__subtitle').text\n",
    "    dt1 = parse(search_period.split('between ')[1].split(' - ')[0])\n",
    "    dt2 = parse(search_period.split('between ')[1].split(' - ')[1])\n",
    "    if dt1 > dt2:\n",
    "        dt1 = dt1 - relativedelta(years = 1)\n",
    "    print('Search period: ', dt1, ' - ', dt2)\n",
    "    print('-----------------\\n')\n",
    "except:\n",
    "    print('No search period or problems with search period')\n",
    "    print('-----------------\\n')\n",
    "\n",
    "try: \n",
    "    keywords = []\n",
    "    score = driver.find_elements(By.CLASS_NAME, 'member-analytics-addon__cta-list-item')\n",
    "    for i in score:\n",
    "        print(i.text)\n",
    "        keywords.append(i.text)\n",
    "    print('-----------------\\n')\n",
    "except:\n",
    "    print('No keywords or problems with keywords')\n",
    "    print('-----------------\\n')\n",
    "\n",
    "pattern = re.compile(r'\\b\\b\\d.\\d%')\n",
    "companies_list = []\n",
    "job_titles_list = []\n",
    "\n",
    "try:\n",
    "    score = driver.find_elements(By.CLASS_NAME, 'member-analytics-addon-bar-chart__row')\n",
    "    for i in score:\n",
    "        print(i.text)\n",
    "        if pattern.findall(i.text):\n",
    "            job_titles_list.append(i.text)\n",
    "        else:\n",
    "            companies_list.append(i.text)\n",
    "    print('-----------------\\n')\n",
    "except:\n",
    "    print('No companies or problems with companies')\n",
    "    print('-----------------\\n')"
   ]
  },
  {
   "cell_type": "code",
   "execution_count": null,
   "metadata": {},
   "outputs": [],
   "source": [
    "driver.get(url = 'https://www.linkedin.com/sales/ssi')\n",
    "# WebDriverWait(driver, 10).until(ec.presence_of_element_located((By.TAG_NAME, \"html\")))\n",
    "try:\n",
    "    WebDriverWait(driver, 10).until(ec.presence_of_element_located((By.ID, \"content-main\")))\n",
    "    print('ssi page downloaded')\n",
    "except:\n",
    "    print('element for check was not found')\n",
    "\n",
    "soup = BeautifulSoup(driver.page_source, 'lxml')\n",
    "intro = soup.find_all('span', {'class': 'ssi-score__value block mb-3 t-black t-light'})\n",
    "\n",
    "index = intro[0].get_text(strip = True)\n",
    "print(index, ' - Current Social Selling Index')\n",
    "\n",
    "brand = intro[1].get_text(strip = True)\n",
    "print(brand, ' - Establish your professional brand')\n",
    "\n",
    "find_people = intro[2].get_text(strip = True)\n",
    "print(find_people, ' - Find the right people')\n",
    "\n",
    "engage = intro[3].get_text(strip = True)\n",
    "print(engage, ' - Engage with insights')\n",
    "\n",
    "relationships = intro[4].get_text(strip = True)\n",
    "print(relationships, ' - Build relationships')\n",
    "print()\n",
    "\n",
    "people_industry = intro[5].get_text(strip = True)\n",
    "print(people_industry, ' - People in your industry')\n",
    "people_network = intro[6].get_text(strip = True)\n",
    "print(people_network, ' - People in your network')\n",
    "print()\n",
    "\n",
    "intro = soup.find_all('div', {'class': 'ssi-rank ssi-report__container group-scores-count--2 container-plain flex flex-1'})\n",
    "industry_ssi_rank = intro[0].find_all(\"span\")[1].get_text(strip = True)\n",
    "print(industry_ssi_rank, ' - Top % Industry SSI rank')\n",
    "\n",
    "network_ssi_rank = intro[1].find_all(\"span\")[1].get_text(strip = True)\n",
    "print(network_ssi_rank, ' - Top % Network SSI rank')\n",
    "\n"
   ]
  },
  {
   "cell_type": "code",
   "execution_count": null,
   "metadata": {},
   "outputs": [],
   "source": [
    "script_time = datetime.utcnow().strftime(\"%Y-%m-%d %H:%M:%S\")\n",
    "print(script_time)\n",
    "print('script execution time ',datetime.now() - start_time)"
   ]
  },
  {
   "cell_type": "code",
   "execution_count": null,
   "metadata": {},
   "outputs": [],
   "source": [
    "List = [script_time, views, impressions, searchs, index, brand, find_people, engage, relationships, people_industry, people_network, industry_ssi_rank, network_ssi_rank, keywords,companies_list, job_titles_list, dt1, dt2]"
   ]
  },
  {
   "cell_type": "code",
   "execution_count": null,
   "metadata": {},
   "outputs": [],
   "source": [
    "with open('linkedin_parsing_results.csv', 'a') as f_object:\n",
    " \n",
    "    writer_object = writer(f_object)\n",
    "    writer_object.writerow(List)\n",
    "    f_object.close()"
   ]
  },
  {
   "cell_type": "code",
   "execution_count": null,
   "metadata": {},
   "outputs": [],
   "source": [
    "driver.quit()"
   ]
  },
  {
   "cell_type": "code",
   "execution_count": null,
   "metadata": {},
   "outputs": [],
   "source": [
    "# df = pd.read_csv('linkedin_parsing_results.csv')\n",
    "# df.head()\n"
   ]
  },
  {
   "cell_type": "code",
   "execution_count": null,
   "metadata": {},
   "outputs": [],
   "source": []
  }
 ],
 "metadata": {
  "kernelspec": {
   "display_name": "Python 3.10.8 64-bit",
   "language": "python",
   "name": "python3"
  },
  "language_info": {
   "codemirror_mode": {
    "name": "ipython",
    "version": 3
   },
   "file_extension": ".py",
   "mimetype": "text/x-python",
   "name": "python",
   "nbconvert_exporter": "python",
   "pygments_lexer": "ipython3",
   "version": "3.10.8"
  },
  "orig_nbformat": 4,
  "vscode": {
   "interpreter": {
    "hash": "369f2c481f4da34e4445cda3fffd2e751bd1c4d706f27375911949ba6bb62e1c"
   }
  }
 },
 "nbformat": 4,
 "nbformat_minor": 2
}
